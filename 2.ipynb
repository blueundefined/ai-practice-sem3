{
 "nbformat": 4,
 "nbformat_minor": 0,
 "metadata": {
  "colab": {
   "provenance": []
  },
  "kernelspec": {
   "name": "python3",
   "language": "python",
   "display_name": "Python 3 (ipykernel)"
  },
  "language_info": {
   "name": "python"
  }
 },
 "cells": [
  {
   "cell_type": "markdown",
   "source": [
    "### Задание 1.3.1\n",
    "Создать 8x8 матрицу и заполнить её в шахматном порядке нулями и единицами."
   ],
   "metadata": {
    "id": "Gz9uMEAvXrD4"
   }
  },
  {
   "cell_type": "code",
   "execution_count": 1,
   "metadata": {
    "colab": {
     "base_uri": "https://localhost:8080/"
    },
    "id": "663x8SMaMBrO",
    "outputId": "3dde4c53-ed49-450d-ee5e-c7119c4e583a",
    "ExecuteTime": {
     "end_time": "2023-11-30T19:33:45.973415100Z",
     "start_time": "2023-11-30T19:33:45.880033300Z"
    }
   },
   "outputs": [
    {
     "name": "stdout",
     "output_type": "stream",
     "text": [
      "[[0 1 0 1 0 1 0 1]\n",
      " [1 0 1 0 1 0 1 0]\n",
      " [0 1 0 1 0 1 0 1]\n",
      " [1 0 1 0 1 0 1 0]\n",
      " [0 1 0 1 0 1 0 1]\n",
      " [1 0 1 0 1 0 1 0]\n",
      " [0 1 0 1 0 1 0 1]\n",
      " [1 0 1 0 1 0 1 0]]\n"
     ]
    }
   ],
   "source": [
    "import numpy as np\n",
    "\n",
    "matrix = np.zeros(64, dtype=int).reshape(8,8)\n",
    "matrix[1::2, ::2] = 1\n",
    "matrix[::2, 1::2] = 1\n",
    "print(matrix)"
   ]
  },
  {
   "cell_type": "markdown",
   "source": [
    "### Задание 1.3.2\n",
    "Создать 5x5 матрицу со значениями в строках от 0 до 4. Для создания необходимо использовать функцию arrange."
   ],
   "metadata": {
    "id": "s3AqXDAEXwIp"
   }
  },
  {
   "cell_type": "code",
   "source": [
    "row = np.arange(5)\n",
    "matrix = np.tile(row,5).reshape(5,5)\n",
    "print(matrix)"
   ],
   "metadata": {
    "colab": {
     "base_uri": "https://localhost:8080/"
    },
    "id": "AJoLOdxdOCef",
    "outputId": "6351802c-14dc-4c76-c5f4-5bbc089aba2b",
    "ExecuteTime": {
     "end_time": "2023-11-30T19:33:57.814209100Z",
     "start_time": "2023-11-30T19:33:57.805727600Z"
    }
   },
   "execution_count": 2,
   "outputs": [
    {
     "name": "stdout",
     "output_type": "stream",
     "text": [
      "[[0 1 2 3 4]\n",
      " [0 1 2 3 4]\n",
      " [0 1 2 3 4]\n",
      " [0 1 2 3 4]\n",
      " [0 1 2 3 4]]\n"
     ]
    }
   ]
  },
  {
   "cell_type": "markdown",
   "source": [
    "### Задание 1.3.3\n",
    "Создать массив 3x3x3 со случайными значениями."
   ],
   "metadata": {
    "id": "izdHeyTeXzut"
   }
  },
  {
   "cell_type": "code",
   "source": [
    "array = np.random.random((3,3,3))\n",
    "print(array)"
   ],
   "metadata": {
    "colab": {
     "base_uri": "https://localhost:8080/"
    },
    "id": "IFNZseJkP2Ci",
    "outputId": "c8c5aff3-c8ac-4622-9919-f6d762e16d2b",
    "ExecuteTime": {
     "end_time": "2023-11-30T19:34:14.085729400Z",
     "start_time": "2023-11-30T19:34:14.078238Z"
    }
   },
   "execution_count": 3,
   "outputs": [
    {
     "name": "stdout",
     "output_type": "stream",
     "text": [
      "[[[0.56727206 0.93245728 0.7189294 ]\n",
      "  [0.02017733 0.05798435 0.55356475]\n",
      "  [0.28305846 0.89509798 0.78541987]]\n",
      "\n",
      " [[0.11250268 0.58780794 0.66584693]\n",
      "  [0.86221583 0.64962027 0.01232793]\n",
      "  [0.29795945 0.7809163  0.50403349]]\n",
      "\n",
      " [[0.52486683 0.16225046 0.15102925]\n",
      "  [0.25576829 0.02631951 0.36374718]\n",
      "  [0.48769125 0.63492777 0.33998657]]]\n"
     ]
    }
   ]
  },
  {
   "cell_type": "markdown",
   "source": [
    "### Задание 1.3.4\n",
    "Создать матрицу с 0 внутри, и 1 на границах."
   ],
   "metadata": {
    "id": "vkY-fqutX2iY"
   }
  },
  {
   "cell_type": "code",
   "source": [
    "n = int(input(\"Размерность матрицы: \"))\n",
    "matrix = np.zeros(n*n, dtype=int).reshape(n,n)\n",
    "matrix[-1::],matrix[::,-1::], matrix[0:1:],matrix[::,0:1:] = 1,1,1,1\n",
    "print(matrix)"
   ],
   "metadata": {
    "colab": {
     "base_uri": "https://localhost:8080/"
    },
    "id": "W3esgxSnQnTG",
    "outputId": "d39664cd-57b4-4cf4-8678-94591c6d4eea",
    "ExecuteTime": {
     "end_time": "2023-11-30T19:34:55.551100100Z",
     "start_time": "2023-11-30T19:34:49.942795500Z"
    }
   },
   "execution_count": 4,
   "outputs": [
    {
     "name": "stdout",
     "output_type": "stream",
     "text": [
      "[[1 1 1 1 1]\n",
      " [1 0 0 0 1]\n",
      " [1 0 0 0 1]\n",
      " [1 0 0 0 1]\n",
      " [1 1 1 1 1]]\n"
     ]
    }
   ]
  },
  {
   "cell_type": "markdown",
   "source": [
    "### Задание 1.3.5\n",
    "Создайте массив и отсортируйте его по убыванию."
   ],
   "metadata": {
    "id": "ZEKB5qNGX5tR"
   }
  },
  {
   "cell_type": "code",
   "source": [
    "array = np.array([2,4,5,3,12,4,0,7])\n",
    "array = np.sort(array)[::-1]\n",
    "print(array)"
   ],
   "metadata": {
    "colab": {
     "base_uri": "https://localhost:8080/"
    },
    "id": "enxqhtu5SOv-",
    "outputId": "81ef4597-8ce8-4454-c533-18fd32697bfb"
   },
   "execution_count": null,
   "outputs": [
    {
     "output_type": "stream",
     "name": "stdout",
     "text": [
      "[12  7  5  4  4  3  2  0]\n"
     ]
    }
   ]
  },
  {
   "cell_type": "markdown",
   "source": [
    "### Задание 1.3.6\n",
    "Создайте матрицу, выведите ее форму, размер и размерность."
   ],
   "metadata": {
    "id": "R64V-WRcX8TK"
   }
  },
  {
   "cell_type": "code",
   "source": [
    "matrix = np.arange(25).reshape(5,5)\n",
    "\n",
    "print(\"Форма\", matrix.shape)\n",
    "print(\"Размер\", matrix.size)\n",
    "print(\"Размерность\", matrix.ndim)"
   ],
   "metadata": {
    "colab": {
     "base_uri": "https://localhost:8080/"
    },
    "id": "l_akT6EiTHG4",
    "outputId": "17cd543b-e9ea-458c-b2b0-db4b12a783d5"
   },
   "execution_count": null,
   "outputs": [
    {
     "output_type": "stream",
     "name": "stdout",
     "text": [
      "Форма (5, 5)\n",
      "Размер 25\n",
      "Размерность 2\n"
     ]
    }
   ]
  },
  {
   "cell_type": "markdown",
   "source": [
    "### Задание 2.3.1\n",
    "Найдите Евклидово расстояние между двумя Series (точками) a и b, не используя встроенную формулу."
   ],
   "metadata": {
    "id": "0uEucMVTYAsK"
   }
  },
  {
   "cell_type": "code",
   "source": [
    "import pandas as pd\n",
    "import numpy as np\n",
    "\n",
    "a = pd.Series([1, 2, 3])\n",
    "b = pd.Series([4, 5, 6])\n",
    "\n",
    "squared_diff = (a - b) ** 2\n",
    "sum_squared_diff = np.sum(squared_diff)\n",
    "euclidean_distance = np.sqrt(sum_squared_diff)\n",
    "print(euclidean_distance)\n"
   ],
   "metadata": {
    "id": "xjl93eGETrwU",
    "colab": {
     "base_uri": "https://localhost:8080/"
    },
    "outputId": "636022b8-d715-4630-b0e2-cc96ad02d5cf",
    "ExecuteTime": {
     "end_time": "2023-11-30T19:37:19.072311800Z",
     "start_time": "2023-11-30T19:37:18.730895400Z"
    }
   },
   "execution_count": 6,
   "outputs": [
    {
     "name": "stdout",
     "output_type": "stream",
     "text": [
      "5.196152422706632\n"
     ]
    }
   ]
  },
  {
   "cell_type": "markdown",
   "source": [
    "### Задание 2.3.2\n",
    "Найдите в Интернете ссылку на любой csv файл и сформируйте из него фрейм данных (например, коллекцию фреймов данных можно найти здесь: https://github.com/akmand/datasets ). Проделайте с получившемся из предыдущего задания фреймом данных те же действия, что и в примерах 2.2.5-2.2.7."
   ],
   "metadata": {
    "id": "M5hLBXppYEE1"
   }
  },
  {
   "cell_type": "code",
   "source": [
    "url = 'https://raw.githubusercontent.com/akmand/datasets/main/airlines.csv'\n",
    "\n",
    "df = pd.read_csv(url)\n",
    "\n",
    "print(df.head(2))\n",
    "print('-----------------------------------------------------------------------')\n",
    "print(df.tail(3))\n",
    "print('-----------------------------------------------------------------------')\n",
    "print(df.shape)\n",
    "print('-----------------------------------------------------------------------')\n",
    "print(df.describe())\n",
    "print('-----------------------------------------------------------------------')\n",
    "print(df.iloc[2:5])\n",
    "print('-----------------------------------------------------------------------')\n",
    "print(df[df['Airline'] == 'US'].head(2))"
   ],
   "metadata": {
    "colab": {
     "base_uri": "https://localhost:8080/"
    },
    "id": "cJcV_zbAS-EG",
    "outputId": "08e1ac09-4874-4665-c7b4-e10fa043abc7"
   },
   "execution_count": null,
   "outputs": [
    {
     "output_type": "stream",
     "name": "stdout",
     "text": [
      "  Airline  Flight AirportFrom AirportTo  DayOfWeek  Time  Length  Delay\n",
      "0      CO     269         SFO       IAH          3    15     205      1\n",
      "1      US    1558         PHX       CLT          3    15     222      1\n",
      "-----------------------------------------------------------------------\n",
      "       Airline  Flight AirportFrom AirportTo  DayOfWeek  Time  Length  Delay\n",
      "539380      FL     609         SFO       MKE          5  1439     255      0\n",
      "539381      UA      78         HNL       SFO          5  1439     313      1\n",
      "539382      US    1442         LAX       PHL          5  1439     301      1\n",
      "-----------------------------------------------------------------------\n",
      "(539383, 8)\n",
      "-----------------------------------------------------------------------\n",
      "              Flight      DayOfWeek           Time         Length  \\\n",
      "count  539383.000000  539383.000000  539383.000000  539383.000000   \n",
      "mean     2427.928630       3.929668     802.728963     132.202007   \n",
      "std      2067.429837       1.914664     278.045911      70.117016   \n",
      "min         1.000000       1.000000      10.000000       0.000000   \n",
      "25%       712.000000       2.000000     565.000000      81.000000   \n",
      "50%      1809.000000       4.000000     795.000000     115.000000   \n",
      "75%      3745.000000       5.000000    1035.000000     162.000000   \n",
      "max      7814.000000       7.000000    1439.000000     655.000000   \n",
      "\n",
      "               Delay  \n",
      "count  539383.000000  \n",
      "mean        0.445442  \n",
      "std         0.497015  \n",
      "min         0.000000  \n",
      "25%         0.000000  \n",
      "50%         0.000000  \n",
      "75%         1.000000  \n",
      "max         1.000000  \n",
      "-----------------------------------------------------------------------\n",
      "  Airline  Flight AirportFrom AirportTo  DayOfWeek  Time  Length  Delay\n",
      "2      AA    2400         LAX       DFW          3    20     165      1\n",
      "3      AA    2466         SFO       DFW          3    20     195      1\n",
      "4      AS     108         ANC       SEA          3    30     202      0\n",
      "-----------------------------------------------------------------------\n",
      "   Airline  Flight AirportFrom AirportTo  DayOfWeek  Time  Length  Delay\n",
      "1       US    1558         PHX       CLT          3    15     222      1\n",
      "15      US     498         DEN       CLT          3    55     179      0\n"
     ]
    }
   ]
  },
  {
   "cell_type": "markdown",
   "source": [
    "### Задание 2.3.3\n",
    "Загрузить фрейм данных по ссылке:\n",
    "https://raw.githubusercontent.com/akmand/datasets/master/iris.csv.\n",
    "Необходимо выполнить нормализацию первого числового признака\n",
    "(sepal_length_cm) с использованием минимаксного преобразования, а\n",
    "второго (sepal_width_cm) с задействованием z-масштабирования."
   ],
   "metadata": {
    "id": "F1khOxqjYIj0"
   }
  },
  {
   "cell_type": "code",
   "source": [
    "from sklearn.preprocessing import MinMaxScaler, StandardScaler\n",
    "\n",
    "url = 'https://raw.githubusercontent.com/akmand/datasets/master/iris.csv'\n",
    "\n",
    "df = pd.read_csv(url)\n",
    "\n",
    "minmax_scaler = MinMaxScaler()\n",
    "df['sepal_length_cm_normalized'] = minmax_scaler.fit_transform(df[['sepal_length_cm']])\n",
    "\n",
    "standard_scaler = StandardScaler()\n",
    "df['sepal_width_cm_scaled'] = standard_scaler.fit_transform(df[['sepal_width_cm']])\n",
    "\n",
    "print(df.head())"
   ],
   "metadata": {
    "id": "qX2-MVuvTDcm",
    "colab": {
     "base_uri": "https://localhost:8080/"
    },
    "outputId": "11bc111a-6c91-4d95-bcde-4b73342f8837",
    "ExecuteTime": {
     "end_time": "2023-11-30T19:37:29.862924Z",
     "start_time": "2023-11-30T19:37:29.490361900Z"
    }
   },
   "execution_count": 7,
   "outputs": [
    {
     "name": "stdout",
     "output_type": "stream",
     "text": [
      "   sepal_length_cm  sepal_width_cm  petal_length_cm  petal_width_cm species  \\\n",
      "0              5.1             3.5              1.4             0.2  setosa   \n",
      "1              4.9             3.0              1.4             0.2  setosa   \n",
      "2              4.7             3.2              1.3             0.2  setosa   \n",
      "3              4.6             3.1              1.5             0.2  setosa   \n",
      "4              5.0             3.6              1.4             0.2  setosa   \n",
      "\n",
      "   sepal_length_cm_normalized  sepal_width_cm_scaled  \n",
      "0                    0.222222               1.032057  \n",
      "1                    0.166667              -0.124958  \n",
      "2                    0.111111               0.337848  \n",
      "3                    0.083333               0.106445  \n",
      "4                    0.194444               1.263460  \n"
     ]
    }
   ]
  }
 ]
}
