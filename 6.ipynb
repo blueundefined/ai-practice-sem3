{
 "nbformat": 4,
 "nbformat_minor": 0,
 "metadata": {
  "colab": {
   "provenance": [],
   "authorship_tag": "ABX9TyMC3bL7sRi3+oSNmr2auEbD"
  },
  "kernelspec": {
   "name": "python3",
   "language": "python",
   "display_name": "Python 3 (ipykernel)"
  },
  "language_info": {
   "name": "python"
  }
 },
 "cells": [
  {
   "cell_type": "markdown",
   "source": [
    "### Задание 1.3\n",
    "Выполните по вариантам соответственно реализацию генетического алгоритма в соответствии с приложенными начальными данными.\n",
    "![Картинка задания 1.3](src/practice_6/1.3.jpg)\n"
   ],
   "metadata": {
    "id": "NohdzenuVReI"
   }
  },
  {
   "cell_type": "code",
   "execution_count": 3,
   "metadata": {
    "colab": {
     "base_uri": "https://localhost:8080/"
    },
    "id": "0j2UBWTYUoZ8",
    "executionInfo": {
     "status": "ok",
     "timestamp": 1701333991328,
     "user_tz": -180,
     "elapsed": 278,
     "user": {
      "displayName": "barolad",
      "userId": "01989455047453763921"
     }
    },
    "outputId": "a6b3d4a6-136e-4d94-856d-a3078bad6c63",
    "ExecuteTime": {
     "end_time": "2023-11-30T14:35:52.229987500Z",
     "start_time": "2023-11-30T14:35:52.224397800Z"
    }
   },
   "outputs": [
    {
     "name": "stdout",
     "output_type": "stream",
     "text": [
      "max_1_step: -0.9738562091503267\n",
      "max_2_step: 0.7748068924539511\n",
      "max_3_step: 0.9251336898395722\n",
      "max_4_step: 1.7290552584670231\n",
      "max Z: 0.47058823529411764\n"
     ]
    }
   ],
   "source": [
    "def qZ(x, y):\n",
    "    return (x - 3*y) / (2*x**2 + 2*y**2 + 1)\n",
    "\n",
    "def qSumZ(Z):\n",
    "  return sum(Z)\n",
    "\n",
    "def exchangeScheme(oldX, oldY, sortedId):\n",
    "  X = [0 for i in range(4)]\n",
    "  Y = [0 for i in range(4)]\n",
    "  X[2] = oldX[sortedId[2]]\n",
    "  X[3] = oldX[sortedId[2]]\n",
    "  X[0] = oldX[sortedId[0]]\n",
    "  X[1] = oldX[sortedId[1]]\n",
    "  Y[0] = oldY[sortedId[2]]\n",
    "  Y[1] = oldY[sortedId[2]]\n",
    "  Y[2] = oldY[sortedId[0]]\n",
    "  Y[3] = oldY[sortedId[1]]\n",
    "  return X, Y\n",
    "\n",
    "def sorting(Z):\n",
    "  sortedId = sorted(range(len(Z)), key = lambda k: Z[k])\n",
    "  return sortedId\n",
    "\n",
    "def evoStep(X, Y, Z):\n",
    "  _, minId = min((value, id) for (id, value) in enumerate(Z))\n",
    "  X = X[:]\n",
    "  Y = Y[:]\n",
    "  Z = Z[:]\n",
    "  X. pop(minId)\n",
    "  Y.pop(minId)\n",
    "  Z.pop(minId)\n",
    "  return X, Y, Z\n",
    "\n",
    "def evoSteps(X, Y):\n",
    "  results = []\n",
    "  for i in range(4):\n",
    "    arrZ = [qZ(x, Y[i]) for i, x in enumerate(X)]\n",
    "    X, Y, Z = evoStep(X, Y, arrZ)\n",
    "    X, Y = exchangeScheme(X, Y, sorting(Z))\n",
    "    results.append([X, Y, qSumZ(arrZ), arrZ])\n",
    "  return X, Y, results\n",
    "\n",
    "X = [-1, 0, 2, 3]\n",
    "Y = [0, 1, -2, 2]\n",
    "\n",
    "results = evoSteps(X, Y)\n",
    "\n",
    "for i in range(len(results[2])):\n",
    "  print(f'max_{i + 1}_step: {results[2][i][2]}')\n",
    "\n",
    "qualityArrZ = []\n",
    "\n",
    "for i in range(len(results[2])):\n",
    "  qualityArrZ += results[2][i][3]\n",
    "\n",
    "print(f'max Z: {max(qualityArrZ)}')"
   ]
  },
  {
   "cell_type": "markdown",
   "source": [
    "### Задание 2.3.1\n",
    "Найти длину гамильтонова цикла S4 в полном графе K6 после четырех циклов решения задачи методом отжига по вариантам ниже.\n",
    "\n",
    "![Картинка задания 2.3.1](src/practice_6/2.3.1.jpg)"
   ],
   "metadata": {
    "id": "gG47HzYZaftI"
   }
  },
  {
   "cell_type": "code",
   "execution_count": null,
   "outputs": [],
   "source": [
    "!pip install networkx"
   ],
   "metadata": {
    "collapsed": false
   }
  },
  {
   "cell_type": "code",
   "source": [
    "import networkx as nx\n",
    "from math import e\n",
    "\n",
    "distances = [\n",
    "    (1, 2, 24),\n",
    "    (1, 3, 41),\n",
    "    (1, 4, 36),\n",
    "    (1, 5, 22),\n",
    "    (1, 6, 19),\n",
    "\n",
    "    (2, 3, 21),\n",
    "    (2, 4, 33),\n",
    "    (2, 5, 33),\n",
    "    (2, 6, 14),\n",
    "\n",
    "    (3, 4, 27),\n",
    "    (3, 5, 39),\n",
    "    (3, 6, 23),\n",
    "\n",
    "    (4, 5, 20),\n",
    "    (4, 6, 20),\n",
    "\n",
    "    (5, 6, 19),\n",
    "    ]\n",
    "\n",
    "V = [1, 3, 4, 5, 6, 2, 1]\n",
    "Z = [(3, 4), (4, 6), (5, 2), (6, 2)]\n",
    "P = [33, 82, 51, 76]\n",
    "T = 100\n",
    "\n",
    "#функция вероятности\n",
    "def probability(delta, T):\n",
    "    return 100 * e ** (-delta / T)\n",
    "\n",
    "#функция изменения температуры\n",
    "def reductTemp(prevT):\n",
    "    nextT = .5 * prevT\n",
    "    return nextT\n",
    "\n",
    "graph = nx.Graph() #создание пустого графа\n",
    "graph.add_weighted_edges_from(distances) #добавление весов рёбер\n",
    "\n",
    "#отрисовка графа с заданными вершинами\n",
    "# nx.draw_kamada_kawai(graph, node_color='#fb7258', node_size=2000, with_labels=True)\n",
    "\n",
    "#вычисление длины ребра\n",
    "def edgeLength(i, j, distances, roundTrip=True):\n",
    "    if roundTrip:\n",
    "        return max([(item[2] if (item[0] == i and item[1] == j) or (item[1] == i and item[0] == j) else -1)\n",
    "                   for item in distances])\n",
    "    else:\n",
    "        return max([(item[2] if (item[0] == i and item[1] == j) else -1) for item in distances])\n",
    "\n",
    "#вычисление длины маршрута\n",
    "def routeLength(V, distances):\n",
    "    edges = []\n",
    "\n",
    "    for i in range(len(V) - 1):\n",
    "        edges.append(edgeLength(V[i], V[i + 1], distances))\n",
    "\n",
    "    return sum(edges)\n",
    "\n",
    "#одна перестановка в пути\n",
    "def routeOneReplacement(arrV, Z, replacementByName=True):\n",
    "    decrement = 1 if replacementByName else 0\n",
    "\n",
    "    arrV[Z[0] - decrement], arrV[Z[1] - decrement] = arrV[Z[1] - decrement], arrV[Z[0] - decrement]\n",
    "\n",
    "    return arrV\n",
    "\n",
    "#перестановка в пути\n",
    "def routeReplacement(V, Z):\n",
    "    for z in Z:\n",
    "        V = routeOneReplacement(V, z)\n",
    "    return V\n",
    "\n",
    "#выбор нужного пути методом отжига\n",
    "def chooseRoute(distances, V, Z, T, P):\n",
    "    sumLength = routeLength(V, distances) #нахождение длины пути\n",
    "    arrSum = [sumLength] #массив сумм длин\n",
    "\n",
    "    #циклы методом отжига\n",
    "    for i in range(len(Z)):\n",
    "        newV = routeOneReplacement(V[:], Z[i]) #новый маршрут после перестановки\n",
    "        newS = routeLength(newV, distances) #длина нового маршрута\n",
    "        arrSum.append(newS)\n",
    "        deltaS = newS - sumLength #разница между длиной нового и старого маршрутов\n",
    "\n",
    "        #в случае, если разница между длинами больше 0, то вычисляется вероятность\n",
    "        if deltaS > 0:\n",
    "            p = probability(deltaS, T) #подсчёт вероятности\n",
    "\n",
    "            #если заданная вероятность попадает в интервал от 0 до p, то новый маршрут выбирается\n",
    "            if p > P[i]:\n",
    "                V = newV\n",
    "                sumLength = newS\n",
    "        else:\n",
    "            V = newV\n",
    "            sumLength = newS\n",
    "\n",
    "        T = reductTemp(T) #вычисление температуры\n",
    "\n",
    "    return V, arrSum\n",
    "\n",
    "#отрисовка графа по заданному маршруту\n",
    "def drawRouteGraph(distances, bestRoute):\n",
    "    newDistances = []\n",
    "    #прохождение по вектору\n",
    "    for i in range(len(bestRoute) - 1):\n",
    "        for distance in distances:\n",
    "            if distance[0] == bestRoute[i] and distance[1] == bestRoute[i + 1] or distance[1] == bestRoute[i] and distance[0] == bestRoute[i + 1]:\n",
    "                newDistances.append(distance)\n",
    "\n",
    "    graph = nx.Graph() #создание пустого графа\n",
    "\n",
    "    graph.add_weighted_edges_from(newDistances) #добавление весов рёбер\n",
    "    #отрисовка графа с заданными вершинами\n",
    "    nx.draw_kamada_kawai(graph, node_color='#abebee', node_size=2000, with_labels=True)\n",
    "\n",
    "bestRoute, arrLength = chooseRoute(distances, V, Z, T, P)\n",
    "\n",
    "print(f'Лучший выбранный маршрут: {bestRoute}')\n",
    "print(f'Длина лучшего выбранного маршрута: {routeLength(bestRoute, distances)}')\n",
    "print(f'Длины всех рассмотренных маршрутов: {arrLength}')\n",
    "\n",
    "drawRouteGraph(distances, bestRoute) #отрисовка лучшего маршрута"
   ],
   "metadata": {
    "colab": {
     "base_uri": "https://localhost:8080/",
     "height": 568
    },
    "id": "DyafdAZcauFp",
    "executionInfo": {
     "status": "ok",
     "timestamp": 1701335105184,
     "user_tz": -180,
     "elapsed": 743,
     "user": {
      "displayName": "barolad",
      "userId": "01989455047453763921"
     }
    },
    "outputId": "cc59bf79-6c88-4d07-b70e-2eb77cad9f49",
    "ExecuteTime": {
     "end_time": "2023-11-30T14:37:56.655861900Z",
     "start_time": "2023-11-30T14:37:56.574800100Z"
    }
   },
   "execution_count": 10,
   "outputs": [
    {
     "name": "stdout",
     "output_type": "stream",
     "text": [
      "Лучший выбранный маршрут: [1, 6, 5, 4, 3, 2, 1]\n",
      "Длина лучшего выбранного маршрута: 130\n",
      "Длины всех рассмотренных маршрутов: [145, 158, 183, 130, 146]\n"
     ]
    },
    {
     "data": {
      "text/plain": "<Figure size 640x480 with 1 Axes>",
      "image/png": "[encoded data removed]"
     },
     "metadata": {},
     "output_type": "display_data"
    }
   ]
  },
  {
   "cell_type": "markdown",
   "source": [
    "### Задание 2.3.2\n",
    "На решенном уже примере поэкспериментируйте с показателем S, проанализируйте результаты."
   ],
   "metadata": {
    "collapsed": false
   }
  }
 ]
}
