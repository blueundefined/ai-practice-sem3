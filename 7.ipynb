{
 "nbformat": 4,
 "nbformat_minor": 0,
 "metadata": {
  "colab": {
   "provenance": [],
   "authorship_tag": "ABX9TyPkTVXviH0F8cduCPD4laPh"
  },
  "kernelspec": {
   "name": "python3",
   "language": "python",
   "display_name": "Python 3 (ipykernel)"
  },
  "language_info": {
   "name": "python"
  }
 },
 "cells": [
  {
   "cell_type": "markdown",
   "source": [
    "### Задание 1.3.1\n",
    "Реализовать классы нейросетей по аналогии с классом OurNeuralNetwork.\n",
    "```text\n",
    "Данные нейросети:\n",
    "− три входа (x1, x2, x3);\n",
    "− три нейрона в скрытых слоях (h1, h2, h3);\n",
    "− выход (o1).\n",
    "Нейроны имеют идентичные веса и пороги:\n",
    "− w = [0.5, 0.5, 0.5]\n",
    "− b = 0\n",
    "Данные нейросети:\n",
    "− два входа (x1, x2);\n",
    "− два нейрона в скрытых слоях (h1, h2);\n",
    "− два выхода (o1, o2).\n",
    "Нейроны имеют идентичные веса и пороги:\n",
    "− w = [1, 0];\n",
    "− b = 1.\n",
    "```"
   ],
   "metadata": {
    "id": "_zrc2lKJjTzf"
   }
  },
  {
   "cell_type": "code",
   "execution_count": 4,
   "metadata": {
    "colab": {
     "base_uri": "https://localhost:8080/"
    },
    "id": "Fm52cLc7ivVE",
    "executionInfo": {
     "status": "ok",
     "timestamp": 1701336788824,
     "user_tz": -180,
     "elapsed": 303,
     "user": {
      "displayName": "barolad",
      "userId": "01989455047453763921"
     }
    },
    "outputId": "73d2d284-7096-4cf6-f476-2ba7f46b8d0f",
    "ExecuteTime": {
     "end_time": "2023-11-30T19:28:29.460819900Z",
     "start_time": "2023-11-30T19:28:29.438888100Z"
    }
   },
   "outputs": [
    {
     "name": "stdout",
     "output_type": "stream",
     "text": [
      "0.8151036049051821\n",
      "(0.8757270529783324, 0.8757270529783324)\n"
     ]
    }
   ],
   "source": [
    "import numpy as np\n",
    "\n",
    "class Neuron:\n",
    "    def __init__(self, weights, bias):\n",
    "        self.weights = weights\n",
    "        self.bias = bias\n",
    "\n",
    "    def feedforward(self, inputs):\n",
    "        total = np.dot(self.weights, inputs) + self.bias\n",
    "        return self.sigmoid(total)\n",
    "\n",
    "    def sigmoid(self, x):\n",
    "        return 1 / (1 + np.exp(-x))\n",
    "\n",
    "class NeuralNetwork1:\n",
    "    def __init__(self):\n",
    "        weights = np.array([0.5, 0.5, 0.5])\n",
    "        bias = 0\n",
    "        self.h1 = Neuron(weights, bias)\n",
    "        self.h2 = Neuron(weights, bias)\n",
    "        self.h3 = Neuron(weights, bias)\n",
    "        self.o1 = Neuron(weights, bias)\n",
    "\n",
    "    def feedforward(self, x):\n",
    "        out_h1 = self.h1.feedforward(x)\n",
    "        out_h2 = self.h2.feedforward(x)\n",
    "        out_h3 = self.h3.feedforward(x)\n",
    "        out_o1 = self.o1.feedforward(np.array([out_h1, out_h2, out_h3]))\n",
    "        return out_o1\n",
    "\n",
    "class NeuralNetwork2:\n",
    "    def __init__(self):\n",
    "        weights = np.array([1, 0])\n",
    "        bias = 1\n",
    "        self.h1 = Neuron(weights, bias)\n",
    "        self.h2 = Neuron(weights, bias)\n",
    "        self.o1 = Neuron(weights, bias)\n",
    "        self.o2 = Neuron(weights, bias)\n",
    "\n",
    "    def feedforward(self, x):\n",
    "        out_h1 = self.h1.feedforward(x)\n",
    "        out_h2 = self.h2.feedforward(x)\n",
    "        out_o1 = self.o1.feedforward(np.array([out_h1, out_h2]))\n",
    "        out_o2 = self.o2.feedforward(np.array([out_h1, out_h2]))\n",
    "        return out_o1, out_o2\n",
    "\n",
    "network1 = NeuralNetwork1()\n",
    "x = np.array([2, 3, 4])\n",
    "print(network1.feedforward(x))\n",
    "\n",
    "network2 = NeuralNetwork2()\n",
    "x = np.array([2, 3])\n",
    "print(network2.feedforward(x)) "
   ]
  },
  {
   "cell_type": "markdown",
   "source": [
    "### Задание 1.3.2 \n",
    "Реализуйте классы нейронных сетей с использованием других функций активации.\n",
    "![Картинка задания 1.3.2](src/practice_7/1.3.2.jpg)"
   ],
   "metadata": {
    "id": "sFx9_MNYn4dH"
   }
  },
  {
   "cell_type": "code",
   "source": [
    "import numpy as np\n",
    "\n",
    "class Neuron:\n",
    "    def __init__(self, weights, bias):\n",
    "        self.weights = weights\n",
    "        self.bias = bias\n",
    "\n",
    "    def feedforward(self, inputs, activation_function):\n",
    "        total = np.dot(self.weights, inputs) + self.bias\n",
    "        if activation_function == 'sigmoid':\n",
    "            return self.sigmoid(total)\n",
    "        elif activation_function == 'tanh':\n",
    "            return self.tanh(total)\n",
    "        elif activation_function == 'relu':\n",
    "            return self.relu(total)\n",
    "        else:\n",
    "            raise ValueError(\"Invalid activation function\")\n",
    "\n",
    "    def sigmoid(self, x):\n",
    "        return 1 / (1 + np.exp(-x))\n",
    "\n",
    "    def tanh(self, x):\n",
    "        return np.tanh(x)\n",
    "\n",
    "    def relu(self, x):\n",
    "        return np.maximum(0, x)\n",
    "\n",
    "class NeuralNetwork1:\n",
    "    def __init__(self):\n",
    "        weights = np.array([0.5, 0.5, 0.5])\n",
    "        bias = 0\n",
    "        self.h1 = Neuron(weights, bias)\n",
    "        self.h2 = Neuron(weights, bias)\n",
    "        self.h3 = Neuron(weights, bias)\n",
    "        self.o1 = Neuron(weights, bias)\n",
    "\n",
    "    def feedforward(self, x, activation_function):\n",
    "        out_h1 = self.h1.feedforward(x, activation_function)\n",
    "        out_h2 = self.h2.feedforward(x, activation_function)\n",
    "        out_h3 = self.h3.feedforward(x, activation_function)\n",
    "        out_o1 = self.o1.feedforward(np.array([out_h1, out_h2, out_h3]), activation_function)\n",
    "        return out_o1\n",
    "\n",
    "class NeuralNetwork2:\n",
    "    def __init__(self):\n",
    "        weights = np.array([1, 0])\n",
    "        bias = 1\n",
    "        self.h1 = Neuron(weights, bias)\n",
    "        self.h2 = Neuron(weights, bias)\n",
    "        self.o1 = Neuron(weights, bias)\n",
    "        self.o2 = Neuron(weights, bias)\n",
    "\n",
    "    def feedforward(self, x, activation_function):\n",
    "        out_h1 = self.h1.feedforward(x, activation_function)\n",
    "        out_h2 = self.h2.feedforward(x, activation_function)\n",
    "        out_o1 = self.o1.feedforward(np.array([out_h1, out_h2]), activation_function)\n",
    "        out_o2 = self.o2.feedforward(np.array([out_h1, out_h2]), activation_function)\n",
    "        return out_o1, out_o2\n",
    "\n",
    "nn1 = NeuralNetwork1()\n",
    "output = nn1.feedforward(np.array([1, 2, 3]), 'sigmoid')\n",
    "print(output)\n",
    "\n",
    "nn1 = NeuralNetwork1()\n",
    "output = nn1.feedforward(np.array([1, 2, 3]), 'tanh')\n",
    "print(output)\n",
    "\n",
    "nn1 = NeuralNetwork1()\n",
    "output = nn1.feedforward(np.array([1, 2, 3]), 'relu')\n",
    "print(output)\n",
    "\n",
    "nn2 = NeuralNetwork2()\n",
    "output = nn2.feedforward(np.array([1, 2]), 'sigmoid')\n",
    "print(output)\n",
    "\n",
    "nn2 = NeuralNetwork2()\n",
    "output = nn2.feedforward(np.array([1, 2]), 'tanh')\n",
    "print(output)\n",
    "\n",
    "nn2 = NeuralNetwork2()\n",
    "output = nn2.feedforward(np.array([1, 2]), 'relu')\n",
    "print(output)"
   ],
   "metadata": {
    "colab": {
     "base_uri": "https://localhost:8080/",
     "height": 1000
    },
    "id": "6p6qfBdun879",
    "executionInfo": {
     "status": "ok",
     "timestamp": 1701338241810,
     "user_tz": -180,
     "elapsed": 1757,
     "user": {
      "displayName": "barolad",
      "userId": "01989455047453763921"
     }
    },
    "outputId": "45dbda66-e028-489a-a02e-c4eecc48274a",
    "ExecuteTime": {
     "end_time": "2023-11-30T14:30:21.579477800Z",
     "start_time": "2023-11-30T14:30:21.569474500Z"
    }
   },
   "execution_count": 3,
   "outputs": [
    {
     "name": "stdout",
     "output_type": "stream",
     "text": [
      "0.8067238139969796\n",
      "0.903798759264991\n",
      "4.5\n",
      "(0.8677026536525567, 0.8677026536525567)\n",
      "(0.9613959740515259, 0.9613959740515259)\n",
      "(3, 3)\n"
     ]
    }
   ]
  },
  {
   "cell_type": "markdown",
   "source": [
    "### Задание 2.3\n",
    "Используйте классы MLPClassified и MLPRegressor для классификации и регрессии произвольных данных из интернета. Проведите анализ\n",
    "атрибуты, полученных моделей. Для классификации можете взять набор данных Ирисов:\n",
    "https://gist.githubusercontent.com/netj/8836201/raw/6f9306ad21398ea43cba4f7d537619d0e07d5ae3/iris.csv\n",
    "\n",
    "А для регрессии датасет зависимости заработной платы от опыта работы: \n",
    "https://raw.githubusercontent.com/AnnaShestova/salary-years-simple-linearregression/master/Salary_Data.csv"
   ],
   "metadata": {
    "id": "IKmdqaDuq7yu"
   }
  },
  {
   "cell_type": "code",
   "source": [
    "import pandas as pd\n",
    "from sklearn.neural_network import MLPClassifier, MLPRegressor\n",
    "from sklearn.model_selection import train_test_split\n",
    "from sklearn.preprocessing import StandardScaler\n",
    "\n",
    "# Загрузка данных\n",
    "iris_df = pd.read_csv('https://gist.githubusercontent.com/netj/8836201/raw/6f9306ad21398ea43cba4f7d537619d0e07d5ae3/iris.csv')\n",
    "salary_df = pd.read_csv('https://raw.githubusercontent.com/AnnaShestova/salary-years-simple-linear-regression/master/Salary_Data.csv')\n",
    "\n",
    "# Классификация\n",
    "X_iris = iris_df.iloc[:, :-1]\n",
    "y_iris = iris_df.iloc[:, -1]\n",
    "\n",
    "X_train, X_test, y_train, y_test = train_test_split(X_iris, y_iris, test_size=0.2, random_state=42)\n",
    "\n",
    "scaler = StandardScaler()\n",
    "X_train = scaler.fit_transform(X_train)\n",
    "X_test = scaler.transform(X_test)\n",
    "\n",
    "mlp_classifier = MLPClassifier(hidden_layer_sizes=(10, 10, 10), max_iter=5000)\n",
    "mlp_classifier.fit(X_train, y_train)\n",
    "\n",
    "print('Точность классификации: ', mlp_classifier.score(X_test, y_test))\n",
    "\n",
    "# Регрессия\n",
    "X_salary = salary_df.iloc[:, :-1].values\n",
    "y_salary = salary_df.iloc[:, 1].values\n",
    "\n",
    "X_train, X_test, y_train, y_test = train_test_split(X_salary, y_salary, test_size=0.2, random_state=42)\n",
    "\n",
    "scaler = StandardScaler()\n",
    "X_train = scaler.fit_transform(X_train)\n",
    "X_test = scaler.transform(X_test)\n",
    "\n",
    "mlp_regressor = MLPRegressor(hidden_layer_sizes=(10, 10, 10), max_iter=8000)\n",
    "mlp_regressor.fit(X_train, y_train)\n",
    "\n",
    "print('Точность регрессии: ', mlp_regressor.score(X_test, y_test))"
   ],
   "metadata": {
    "colab": {
     "base_uri": "https://localhost:8080/"
    },
    "id": "ETlb2Uixq_GJ",
    "executionInfo": {
     "status": "ok",
     "timestamp": 1701339340240,
     "user_tz": -180,
     "elapsed": 4928,
     "user": {
      "displayName": "barolad",
      "userId": "01989455047453763921"
     }
    },
    "outputId": "c057d981-fc22-441e-9bfa-7b6b5323f5f0"
   },
   "execution_count": 22,
   "outputs": [
    {
     "output_type": "stream",
     "name": "stdout",
     "text": [
      "Точность классификации:  1.0\n",
      "Точность регрессии:  0.8945907561224186\n"
     ]
    }
   ]
  }
 ]
}
