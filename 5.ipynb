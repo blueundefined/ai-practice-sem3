{
 "nbformat": 4,
 "nbformat_minor": 0,
 "metadata": {
  "colab": {
   "provenance": [],
   "authorship_tag": "ABX9TyO9JxPfqfvahilfzmdybIzk"
  },
  "kernelspec": {
   "name": "python3",
   "language": "python",
   "display_name": "Python 3 (ipykernel)"
  },
  "language_info": {
   "name": "python"
  }
 },
 "cells": [
  {
   "cell_type": "markdown",
   "source": [
    "### Задание 1.3\n",
    "Создайте класс по работе с тригонометрическими функциями. В классе должны быть реализованы функции вычисления: − косинуса; − синуса; − тангенса; − арксинуса; − арккосинуса; − арктангенса; − перевода из градусов в радианы."
   ],
   "metadata": {
    "id": "E_7AbFICqNYQ"
   }
  },
  {
   "cell_type": "code",
   "execution_count": 22,
   "metadata": {
    "colab": {
     "base_uri": "https://localhost:8080/"
    },
    "id": "K-TLhdG8qDel",
    "executionInfo": {
     "status": "ok",
     "timestamp": 1698939236307,
     "user_tz": -180,
     "elapsed": 15,
     "user": {
      "displayName": "barolad",
      "userId": "01989455047453763921"
     }
    },
    "outputId": "dc103f34-d217-42df-9758-8bde66fd9b36",
    "ExecuteTime": {
     "end_time": "2023-11-30T19:15:48.731694500Z",
     "start_time": "2023-11-30T19:15:32.902344600Z"
    }
   },
   "outputs": [
    {
     "name": "stdout",
     "output_type": "stream",
     "text": [
      "\n",
      "Выберите операцию:\n",
      "1. Косинус\n",
      "2. Синус\n",
      "3. Тангенс\n",
      "4. Арксинус\n",
      "5. Арккосинус\n",
      "6. Арктангенс\n",
      "7. Перевести градусы в радианы\n",
      "8. Выйти из калькулятора\n",
      "Косинус 60.0°: 0.5000000000000001\n",
      "\n",
      "Выберите операцию:\n",
      "1. Косинус\n",
      "2. Синус\n",
      "3. Тангенс\n",
      "4. Арксинус\n",
      "5. Арккосинус\n",
      "6. Арктангенс\n",
      "7. Перевести градусы в радианы\n",
      "8. Выйти из калькулятора\n",
      "Выход из калькулятора.\n"
     ]
    }
   ],
   "source": [
    "import math\n",
    "\n",
    "class TrigonometryCalculator:\n",
    "    def __init__(self):\n",
    "        self.trig = Trigonometry()\n",
    "\n",
    "    def run_calculator(self):\n",
    "        while True:\n",
    "            print(\"\\nВыберите операцию:\")\n",
    "            print(\"1. Косинус\")\n",
    "            print(\"2. Синус\")\n",
    "            print(\"3. Тангенс\")\n",
    "            print(\"4. Арксинус\")\n",
    "            print(\"5. Арккосинус\")\n",
    "            print(\"6. Арктангенс\")\n",
    "            print(\"7. Перевести градусы в радианы\")\n",
    "            print(\"8. Выйти из калькулятора\")\n",
    "\n",
    "            choice = input(\"Введите номер операции: \")\n",
    "\n",
    "            if choice == '8':\n",
    "                print(\"Выход из калькулятора.\")\n",
    "                break\n",
    "\n",
    "            try:\n",
    "                if choice in ['1', '2', '3']:\n",
    "                    angle = float(input(\"Введите угол в градусах: \"))\n",
    "                    angle_rad = math.radians(angle)\n",
    "                    if choice == '1':\n",
    "                        result = self.trig.cosine(angle_rad)\n",
    "                        print(f\"Косинус {angle}°: {result}\")\n",
    "                    elif choice == '2':\n",
    "                        result = self.trig.sine(angle_rad)\n",
    "                        print(f\"Синус {angle}°: {result}\")\n",
    "                    elif choice == '3':\n",
    "                        result = self.trig.tangent(angle_rad)\n",
    "                        print(f\"Тангенс {angle}°: {result}\")\n",
    "\n",
    "                elif choice in ['4', '5', '6']:\n",
    "                    value = float(input(\"Введите значение от -1 до 1: \"))\n",
    "                    if choice == '4':\n",
    "                        result = self.trig.arcsine(value)\n",
    "                        print(f\"Арксинус {value}: {result}\")\n",
    "                    elif choice == '5':\n",
    "                        result = self.trig.arccosine(value)\n",
    "                        print(f\"Арккосинус {value}: {result}\")\n",
    "                    elif choice == '6':\n",
    "                        result = self.trig.arctangent(value)\n",
    "                        print(f\"Арктангенс {value}: {result}\")\n",
    "\n",
    "                elif choice == '7':\n",
    "                    degrees = float(input(\"Введите угол в градусах: \"))\n",
    "                    result = self.trig.degrees_to_radians(degrees)\n",
    "                    print(f\"{degrees}° в радианах: {result}\")\n",
    "\n",
    "                else:\n",
    "                    print(\"Неверный выбор. Пожалуйста, выберите от 1 до 8.\")\n",
    "\n",
    "            except ValueError:\n",
    "                print(\"Ошибка ввода. Пожалуйста, введите корректное значение.\")\n",
    "\n",
    "class Trigonometry:\n",
    "    def cosine(self, angle):\n",
    "        return math.cos(angle)\n",
    "\n",
    "    def sine(self, angle):\n",
    "        return math.sin(angle)\n",
    "\n",
    "    def tangent(self, angle):\n",
    "        return math.tan(angle)\n",
    "\n",
    "    def arcsine(self, value):\n",
    "        return math.asin(value)*180/math.pi\n",
    "\n",
    "    def arccosine(self, value):\n",
    "        return math.acos(value)\n",
    "\n",
    "    def arctangent(self, value):\n",
    "        return math.atan(value)\n",
    "\n",
    "    def degrees_to_radians(self, degrees):\n",
    "        return math.radians(degrees)\n",
    "\n",
    "calculator = TrigonometryCalculator()\n",
    "calculator.run_calculator()"
   ]
  },
  {
   "cell_type": "markdown",
   "source": [
    "### Задание 2.3.1\n",
    "Представьте дерево показанное на рисунке с использованием списка из списков. Выведите на печать корень дерева, а также его левое и правое поддеревья.\n",
    "\n",
    "![Картинка задания 2.3.1](src/practice_5/2.3.1.jpg)"
   ],
   "metadata": {
    "id": "uKXNZmPqrzGo"
   }
  },
  {
   "cell_type": "code",
   "source": [
    "class TreeNode:\n",
    "    def __init__(self, value, left=None, right=None):\n",
    "        self.value = value\n",
    "        self.left = left\n",
    "        self.right = right\n",
    "\n",
    "nodeD = TreeNode('D')\n",
    "nodeE = TreeNode('E')\n",
    "nodeF = TreeNode('F')\n",
    "nodeB = TreeNode('B', left=nodeD, right=nodeE)\n",
    "nodeC = TreeNode('C', left=nodeF)\n",
    "root = TreeNode('A', left=nodeB, right=nodeC)\n",
    "\n",
    "print(\"Вершина:\", root.value)\n",
    "print(\"Левое поддерево:\")\n",
    "print(\"  \", root.left.value)\n",
    "print(\"(\", root.left.left.value, root.left.right.value, \")\")\n",
    "print(\"Правое поддерево:\")\n",
    "print(\"  \", root.right.value)\n",
    "print(\"(\", root.right.left.value, \")\")"
   ],
   "metadata": {
    "id": "xyka5eZgrzfK",
    "colab": {
     "base_uri": "https://localhost:8080/"
    },
    "executionInfo": {
     "status": "ok",
     "timestamp": 1701330660424,
     "user_tz": -180,
     "elapsed": 6,
     "user": {
      "displayName": "barolad",
      "userId": "01989455047453763921"
     }
    },
    "outputId": "a4436221-86c1-499e-e6f3-102559405bf4",
    "ExecuteTime": {
     "end_time": "2023-11-30T19:18:49.713500500Z",
     "start_time": "2023-11-30T19:18:49.697602600Z"
    }
   },
   "execution_count": 26,
   "outputs": [
    {
     "name": "stdout",
     "output_type": "stream",
     "text": [
      "Вершина: A\n",
      "Левое поддерево:\n",
      "   B\n",
      "( D E )\n",
      "Правое поддерево:\n",
      "   C\n",
      "( F )\n"
     ]
    }
   ]
  },
  {
   "cell_type": "markdown",
   "source": [
    "### Задание 2.3.2\n",
    "Дан класс, описывающий бинарное дерево.\n",
    "\n",
    "``` python\n",
    "class Tree:\n",
    "    def __init__(self, data):\n",
    "        self.left = None\n",
    "        self.right = None\n",
    "        self.data = data\n",
    "    def PrintTree(self):\n",
    "        print(self.data)\n",
    " ```\n",
    "Реализуйте в классе функцию для вставки нового элемента в дерево по следующим правилам: \\\n",
    "• Левое поддерево узла содержит только узлы со значениями меньше, чем значение в узле. \\\n",
    "• Правое поддерево узла содержит только узлы со значениями меньше, чем значение в узле. \\\n",
    "• Каждое из левого и правого поддеревьев также должно быть бинарным деревом поиска. \\\n",
    "• Не должно быть повторяющихся узлов. \\\n",
    "Метод вставки сравнивает значение узла с родительским узлом и решает куда добавить элемент (в левое или правое поддерево). Перепишите, метод PrintTree для печати полной версии дерева."
   ],
   "metadata": {
    "id": "gnR-V74hP0Vg"
   }
  },
  {
   "cell_type": "code",
   "source": [
    "class Tree:\n",
    "    def __init__(self, data):\n",
    "        self.left = None\n",
    "        self.right = None\n",
    "        self.data = data\n",
    "\n",
    "    def insert(self, data):\n",
    "        if self.data:\n",
    "            if data < self.data:\n",
    "                if self.left is None:\n",
    "                    self.left = Tree(data)\n",
    "                else:\n",
    "                    self.left.insert(data)\n",
    "            elif data > self.data:\n",
    "                if self.right is None:\n",
    "                    self.right = Tree(data)\n",
    "                else:\n",
    "                    self.right.insert(data)\n",
    "        else:\n",
    "            self.data = data\n",
    "\n",
    "    def PrintTree(self, indent=\"\"):\n",
    "        if self.left:\n",
    "            self.left.PrintTree(indent + \"  \")\n",
    "        print(indent + str(self.data))\n",
    "        if self.right:\n",
    "            self.right.PrintTree(indent + \"  \")\n",
    "\n",
    "root = Tree(12)\n",
    "\n",
    "root.insert(6)\n",
    "root.insert(14)\n",
    "root.insert(3)\n",
    "root.insert(19)\n",
    "\n",
    "root.PrintTree()"
   ],
   "metadata": {
    "colab": {
     "base_uri": "https://localhost:8080/"
    },
    "id": "N3YUS0ucQBlv",
    "executionInfo": {
     "status": "ok",
     "timestamp": 1701331405269,
     "user_tz": -180,
     "elapsed": 346,
     "user": {
      "displayName": "barolad",
      "userId": "01989455047453763921"
     }
    },
    "outputId": "ebf40783-7487-4f81-dc21-3933dd0c37e2",
    "ExecuteTime": {
     "end_time": "2023-11-30T14:34:25.417076800Z",
     "start_time": "2023-11-30T14:34:25.403010Z"
    }
   },
   "execution_count": 20,
   "outputs": [
    {
     "name": "stdout",
     "output_type": "stream",
     "text": [
      "    3\n",
      "  6\n",
      "12\n",
      "  14\n",
      "    19\n"
     ]
    }
   ]
  },
  {
   "cell_type": "markdown",
   "source": [
    "### Задание 3.3\n",
    "Постройте классификатор на основе дерева принятия решений следующего датасета на pyhon:\n",
    "\n",
    "```python\n",
    "X = np. array([[-1, -1], [-2, -1], [-3, -2], [1, 1], [2, 1], [3, 2]])\n",
    "target = [0, 0, 0, 1, 1, 1]\n",
    "```\n"
   ],
   "metadata": {
    "id": "2SiROKYXQ17Y"
   }
  },
  {
   "cell_type": "code",
   "source": [
    "import numpy as np\n",
    "from sklearn import tree\n",
    "\n",
    "X = np.array([[-1, -1], [-2, -1], [-3, -2], [1, 1], [2, 1], [3, 2]])\n",
    "target = [0, 0, 0, 1, 1, 1]\n",
    "\n",
    "\n",
    "clf = tree.DecisionTreeClassifier()\n",
    "clf = clf.fit(X, target)\n",
    "\n",
    "print(clf.predict([[2, 2]]))"
   ],
   "metadata": {
    "colab": {
     "base_uri": "https://localhost:8080/"
    },
    "id": "2NJVL4LHRi8w",
    "executionInfo": {
     "status": "ok",
     "timestamp": 1701331800340,
     "user_tz": -180,
     "elapsed": 264,
     "user": {
      "displayName": "barolad",
      "userId": "01989455047453763921"
     }
    },
    "outputId": "26e33bb9-16b2-4f67-bd3f-642086828dee",
    "ExecuteTime": {
     "end_time": "2023-11-30T14:02:37.930313500Z",
     "start_time": "2023-11-30T14:02:35.956259900Z"
    }
   },
   "execution_count": 15,
   "outputs": [
    {
     "name": "stdout",
     "output_type": "stream",
     "text": [
      "[1]\n"
     ]
    }
   ]
  },
  {
   "cell_type": "markdown",
   "source": [
    "### Задание 4.3\n",
    " Постройте модель регрессии для данных из предыдущей рабочей тетради.Для примера можно взять потребления газа (в миллионах галлонов) в 48 штатах США или набор данных о качестве красного вина:\n",
    "\n",
    "https://raw.githubusercontent.com/likarajo/petrol_consumption/master/data/petrol_consumption.csv\n",
    "https://raw.githubusercontent.com/aniruddhachoudhury/Red-WineQuality/master/winequality-red.csv\n",
    "\n",
    "Постройте прогноз. Оцените точность модели."
   ],
   "metadata": {
    "id": "YE3EgXKoRywB"
   }
  },
  {
   "cell_type": "code",
   "execution_count": 27,
   "outputs": [
    {
     "name": "stdout",
     "output_type": "stream",
     "text": [
      "Cредняя абсолютная ошибка (MAE): 0.4696330928661114\n",
      "Среднеквадратичная ошибка (MSE): 0.3844711978201246\n",
      "Корень из средней квадратичной ошибки (RMSE): 0.620057414938427\n",
      "Коэффициент детерминации (R^2): 0.32838876395802186\n"
     ]
    }
   ],
   "source": [
    "import pandas as pd\n",
    "from sklearn.model_selection import train_test_split\n",
    "from sklearn.linear_model import LinearRegression\n",
    "from sklearn import metrics\n",
    "\n",
    "url = \"https://raw.githubusercontent.com/aniruddhachoudhury/Red-Wine-Quality/master/winequality-red.csv\"\n",
    "data = pd.read_csv(url)\n",
    "\n",
    "X = data.drop('quality', axis=1)\n",
    "y = data['quality']\n",
    "\n",
    "X_train, X_test, y_train, y_test = train_test_split(X, y, test_size=0.2, random_state=0)\n",
    "\n",
    "regressor = LinearRegression()\n",
    "\n",
    "regressor.fit(X_train, y_train)\n",
    "\n",
    "y_pred = regressor.predict(X_test)\n",
    "\n",
    "print('Cредняя абсолютная ошибка (MAE):', metrics.mean_absolute_error(y_test, y_pred))\n",
    "print('Среднеквадратичная ошибка (MSE):', metrics.mean_squared_error(y_test, y_pred))\n",
    "print('Корень из средней квадратичной ошибки (RMSE):', np.sqrt(metrics.mean_squared_error(y_test, y_pred)))\n",
    "print(\"Коэффициент детерминации (R^2):\", metrics.r2_score(y_test, y_pred))"
   ],
   "metadata": {
    "collapsed": false,
    "ExecuteTime": {
     "end_time": "2023-11-30T19:21:38.227151900Z",
     "start_time": "2023-11-30T19:21:37.572899200Z"
    }
   }
  },
  {
   "cell_type": "code",
   "execution_count": null,
   "outputs": [],
   "source": [],
   "metadata": {
    "collapsed": false
   }
  }
 ]
}
